{
 "cells": [
  {
   "cell_type": "code",
   "execution_count": null,
   "id": "d6a8df96",
   "metadata": {},
   "outputs": [],
   "source": []
  },
  {
   "cell_type": "code",
   "execution_count": 1,
   "id": "e49c3e53",
   "metadata": {},
   "outputs": [
    {
     "ename": "IndentationError",
     "evalue": "unexpected indent (Temp/ipykernel_18324/454060287.py, line 19)",
     "output_type": "error",
     "traceback": [
      "\u001b[1;36m  File \u001b[1;32m\"C:\\Users\\QUET\\AppData\\Local\\Temp/ipykernel_18324/454060287.py\"\u001b[1;36m, line \u001b[1;32m19\u001b[0m\n\u001b[1;33m    (flag, encodedImage) = cv2.imencode(\".jpg\", frame)\u001b[0m\n\u001b[1;37m    ^\u001b[0m\n\u001b[1;31mIndentationError\u001b[0m\u001b[1;31m:\u001b[0m unexpected indent\n"
     ]
    }
   ],
   "source": [
    "from flask import Flask\n",
    "from flask import render_template\n",
    "from flask import Response\n",
    "import cv2\n",
    "\n",
    "app = Flask(__name__)\n",
    "cap = cv2.VideoCapture(0, cv2.CAP_DSHOW)\n",
    "face_detector = cv2.CascadeClassifier(cv2.data.haarcascades +\n",
    "     \"haarcascade_frontalface_default.xml\")\n",
    "\n",
    "def generate():\n",
    "    while True:\n",
    "          ret, frame = cap.read()\n",
    "          if ret:\n",
    "               imagen2 = cv2.cvtColor(imagen,cv2.COLOR_BGR2RGB)\n",
    "grises = cv2.cvtColor(imagen2,cv2.COLOR_BGR2GRAY)\n",
    "_,binaria =  cv2.threshold(grises, 225, 255, cv2.THRESH_BINARY_INV)\n",
    "np.array(binaria)\n",
    "               (flag, encodedImage) = cv2.imencode(\".jpg\", frame)\n",
    "               if not flag:\n",
    "                    continue\n",
    "               yield(b'--frame\\r\\n' b'Content-Type: image/jpeg\\r\\n\\r\\n' +\n",
    "                    bytearray(encodedImage) + b'\\r\\n')\n",
    "\n",
    "@app.route(\"/\")\n",
    "def index():\n",
    "     return render_template(\"indexTesst.html\")\n",
    "\n",
    "@app.route(\"/video_feed\")\n",
    "def video_feed():\n",
    "     return Response(generate(),\n",
    "          mimetype = \"multipart/x-mixed-replace; boundary=frame\")\n",
    "\n",
    "if __name__ == \"__main__\":\n",
    "     app.run(debug=False)\n",
    "\n",
    "cap.release()"
   ]
  },
  {
   "cell_type": "code",
   "execution_count": null,
   "id": "1daebace",
   "metadata": {},
   "outputs": [],
   "source": []
  }
 ],
 "metadata": {
  "kernelspec": {
   "display_name": "Python 3 (ipykernel)",
   "language": "python",
   "name": "python3"
  },
  "language_info": {
   "codemirror_mode": {
    "name": "ipython",
    "version": 3
   },
   "file_extension": ".py",
   "mimetype": "text/x-python",
   "name": "python",
   "nbconvert_exporter": "python",
   "pygments_lexer": "ipython3",
   "version": "3.9.7"
  }
 },
 "nbformat": 4,
 "nbformat_minor": 5
}
