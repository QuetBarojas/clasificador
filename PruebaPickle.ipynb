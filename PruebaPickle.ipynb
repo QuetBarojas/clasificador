{
 "cells": [
  {
   "cell_type": "code",
   "execution_count": 1,
   "id": "21406f26",
   "metadata": {},
   "outputs": [
    {
     "data": {
      "text/plain": [
       "array([[255, 255, 255, ..., 255, 255, 255],\n",
       "       [255, 255, 255, ..., 255, 255, 255],\n",
       "       [255, 255, 255, ..., 255, 255, 255],\n",
       "       ...,\n",
       "       [255, 255, 255, ..., 255, 255, 255],\n",
       "       [255, 255, 255, ..., 255, 255, 255],\n",
       "       [255, 255, 255, ..., 255, 255, 255]], dtype=uint8)"
      ]
     },
     "execution_count": 1,
     "metadata": {},
     "output_type": "execute_result"
    }
   ],
   "source": [
    "import numpy as np\n",
    "import cv2 \n",
    "import seaborn as sns\n",
    "import matplotlib.pyplot as plt\n",
    "sns.set (color_codes=True)\n",
    "import pandas as pd\n",
    "\n",
    "\n",
    "\n",
    "imagen = cv2.imread('petalo4.jpg')\n",
    "imagen2 = cv2.cvtColor(imagen,cv2.COLOR_BGR2RGB)\n",
    "grises = cv2.cvtColor(imagen2,cv2.COLOR_BGR2GRAY)\n",
    "_,binaria =  cv2.threshold(grises, 225, 255, cv2.THRESH_BINARY_INV)\n",
    "np.array(binaria)\n"
   ]
  },
  {
   "cell_type": "code",
   "execution_count": null,
   "id": "6aa32156",
   "metadata": {},
   "outputs": [
    {
     "name": "stdout",
     "output_type": "stream",
     "text": [
      "3.99\n",
      "2.99\n",
      "0.8\n",
      "0.0\n"
     ]
    }
   ],
   "source": [
    "datos = np.array([])\n",
    "\n",
    "(contornos,_) = cv2.findContours(binaria, cv2.RETR_TREE, cv2.CHAIN_APPROX_SIMPLE)\n",
    "cnt = contornos[0]\n",
    "M = cv2.moments(cnt)\n",
    "cX = int(M[\"m10\"]/ M[\"m00\"])\n",
    "cY = int(M[\"m01\"]/ M[\"m00\"])\n",
    "seplength = cX/100\n",
    "sepwidth = cY/100\n",
    "print(seplength)\n",
    "print(sepwidth)\n",
    "\n",
    "np.append(datos, seplength)\n",
    "np.append(datos, sepwidth)\n",
    "\n",
    "cv2.circle(imagen,(cX,cY),5,(0,255,0),-1)\n",
    "cv2.putText(imagen,\"x:\"+str(cX)+\",y:\"+str(cY),(cX,cY),1,1,(0,0,0),1)\n",
    "x,y,w,h=cv2.boundingRect(cnt)\n",
    "cv2.rectangle(imagen,(x,y),(x+w,y+h),(0,255,3))\n",
    "cv2.putText(imagen,\"w:\"+str(w)+\",h:\"+str(h),(w,h),1,1,(0,0,0),1)\n",
    "       \n",
    "cv2.drawContours(imagen, cnt, -1, (255,0,0),2)\n",
    "\n",
    "cv2.imshow('Imagen', imagen)\n",
    "petlength = w/1000\n",
    "petwidth = y/1000\n",
    "\n",
    "\n",
    "\n",
    "print(petlength)\n",
    "print(petwidth)\n",
    "\n",
    "np.append(datos, petlength)\n",
    "np.append(datos, petwidth)\n",
    " \n",
    "cv2.drawContours(imagen,contornos,-1,(0,0,255), 2)\n",
    "cv2.imshow(\"contornos\", imagen)\n",
    "cv2.waitKey(0)\n",
    "\n",
    "    \n",
    "cv2.waitKey(0)\n",
    "cv2.destroyAllWindows()"
   ]
  },
  {
   "cell_type": "code",
   "execution_count": null,
   "id": "23c966f3",
   "metadata": {},
   "outputs": [],
   "source": [
    "print(datos)"
   ]
  },
  {
   "cell_type": "code",
   "execution_count": 1,
   "id": "67d31096",
   "metadata": {},
   "outputs": [],
   "source": [
    "import pickle\n",
    "\n",
    "model = pickle.load(open(\"DTmodelIris.pkl\",\"rb\"))"
   ]
  },
  {
   "cell_type": "code",
   "execution_count": null,
   "id": "d5ff25a4",
   "metadata": {},
   "outputs": [],
   "source": [
    "import numpy as np\n",
    "\n",
    "test = np.array([[3.99,2.99,0.8,0.0]])\n",
    "\n",
    "#test.reshape(-1, 1)\n",
    "#test\n",
    "\n",
    "datos"
   ]
  },
  {
   "cell_type": "code",
   "execution_count": 24,
   "id": "8f39ef00",
   "metadata": {},
   "outputs": [
    {
     "data": {
      "text/plain": [
       "DecisionTreeClassifier()"
      ]
     },
     "execution_count": 24,
     "metadata": {},
     "output_type": "execute_result"
    }
   ],
   "source": [
    "model"
   ]
  },
  {
   "cell_type": "code",
   "execution_count": 33,
   "id": "cf1dcbf8",
   "metadata": {},
   "outputs": [
    {
     "name": "stdout",
     "output_type": "stream",
     "text": [
      "['Iris-setosa']\n"
     ]
    }
   ],
   "source": [
    "y = model.predict(test)\n",
    "\n",
    "print(y)"
   ]
  },
  {
   "cell_type": "code",
   "execution_count": null,
   "id": "244e5350",
   "metadata": {},
   "outputs": [],
   "source": [
    "from flask import Flask, render_template\n",
    "\n",
    "app = Flask(__name__)\n",
    "\n",
    "@app.route(\"/\")\n",
    "def index():\n",
    "     return render_template(\"indexTesst.html\")\n",
    "\n",
    "@app.route(\"/video_feed\")\n",
    "def video_feed():\n",
    "     return Response(generate(),\n",
    "          mimetype = \"multipart/x-mixed-replace; boundary=frame\")\n",
    "\n",
    "if __name__ == \"__main__\":\n",
    "     app.run(debug=False)\n",
    "\n",
    "cap.release()"
   ]
  },
  {
   "cell_type": "code",
   "execution_count": null,
   "id": "b75f33f7",
   "metadata": {},
   "outputs": [],
   "source": []
  },
  {
   "cell_type": "code",
   "execution_count": null,
   "id": "622185f1",
   "metadata": {},
   "outputs": [],
   "source": []
  }
 ],
 "metadata": {
  "kernelspec": {
   "display_name": "Python 3 (ipykernel)",
   "language": "python",
   "name": "python3"
  },
  "language_info": {
   "codemirror_mode": {
    "name": "ipython",
    "version": 3
   },
   "file_extension": ".py",
   "mimetype": "text/x-python",
   "name": "python",
   "nbconvert_exporter": "python",
   "pygments_lexer": "ipython3",
   "version": "3.9.7"
  }
 },
 "nbformat": 4,
 "nbformat_minor": 5
}
